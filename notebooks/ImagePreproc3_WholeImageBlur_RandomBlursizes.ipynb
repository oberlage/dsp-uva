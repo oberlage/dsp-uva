{
 "cells": [
  {
   "cell_type": "markdown",
   "metadata": {},
   "source": [
    "# Image pre-processing 3\n"
   ]
  },
  {
   "cell_type": "code",
   "execution_count": 1,
   "metadata": {
    "collapsed": true
   },
   "outputs": [],
   "source": [
    "import cv2 as cv\n",
    "import matplotlib.pyplot as plt\n",
    "import numpy as np\n",
    "import glob\n",
    "import math\n",
    "import random\n",
    "from collections import Counter\n",
    "random.seed(21)"
   ]
  },
  {
   "cell_type": "code",
   "execution_count": 2,
   "metadata": {
    "collapsed": true
   },
   "outputs": [],
   "source": [
    "IMAGE_FOLDER = '../../samples/'\n",
    "OUTPUT_FOLDER = '../../processed/'\n",
    "# BLUR_SIZE = 9\n",
    "BLUR_RANGE = [3,5,7,9]\n",
    "OUTPUT_DIM = 200"
   ]
  },
  {
   "cell_type": "code",
   "execution_count": 3,
   "metadata": {
    "collapsed": true
   },
   "outputs": [],
   "source": [
    "# Load files from input folder\n",
    "dir_content = glob.glob(IMAGE_FOLDER+'*.jpg')\n",
    "input_filenames = [x.split('/')[-1] for x in dir_content]"
   ]
  },
  {
   "cell_type": "code",
   "execution_count": 4,
   "metadata": {},
   "outputs": [
    {
     "name": "stdout",
     "output_type": "stream",
     "text": [
      "0.0 done\n",
      "0.1 done\n",
      "0.2 done\n",
      "0.3 done\n",
      "0.4 done\n",
      "0.5 done\n",
      "0.6 done\n",
      "0.7 done\n",
      "0.8 done\n",
      "0.9 done\n",
      "1.0 done\n",
      "done.\n"
     ]
    }
   ],
   "source": [
    "# %%time\n",
    "# Perform reading, resizing, blurring, saving\n",
    "\n",
    "counter = 0\n",
    "num_files = len(input_filenames)\n",
    "\n",
    "step = math.floor(0.1*num_files)\n",
    "used_blurs = []\n",
    "\n",
    "for file in input_filenames:\n",
    "    \n",
    "    # Create an empty black output image\n",
    "    blur_out_img = np.zeros((OUTPUT_DIM, OUTPUT_DIM,3))\n",
    "    orig_out_img = np.zeros((OUTPUT_DIM, OUTPUT_DIM,3))\n",
    "    \n",
    "    # Read the raw image into memory\n",
    "    raw_img = cv.imread(IMAGE_FOLDER+file)\n",
    "\n",
    "    # Scale the original image to fit in the output format\n",
    "    scale = OUTPUT_DIM/max(raw_img.shape[0],raw_img.shape[1])\n",
    "    img = cv.resize(raw_img, (0,0), fx=scale, fy=scale)\n",
    "        \n",
    "    # Apply blur\n",
    "    \n",
    "    blur_size = random.choice(BLUR_RANGE)\n",
    "    used_blurs.append(blur_size)\n",
    "    \n",
    "    blurred_img = cv.GaussianBlur(img, (blur_size, blur_size),0)\n",
    "    \n",
    "    # Fit the scaled blurred image into the empty black image (as zero padding)\n",
    "    blur_out_img[ :blurred_img.shape[0], :blurred_img.shape[1] ] = blurred_img\n",
    "    orig_out_img[ :img.shape[0], :img.shape[1] ] = img\n",
    "    \n",
    "    cv.imwrite(OUTPUT_FOLDER+'blur/'+file, blur_out_img)\n",
    "    cv.imwrite(OUTPUT_FOLDER+'orig/'+file, orig_out_img)\n",
    "    \n",
    "    if counter % step == 0:\n",
    "        percentage = round( counter / num_files,1 )\n",
    "        print( '{} done'.format(percentage) )\n",
    "    counter += 1\n",
    "        \n",
    "print('done.')"
   ]
  },
  {
   "cell_type": "code",
   "execution_count": 5,
   "metadata": {},
   "outputs": [
    {
     "name": "stdout",
     "output_type": "stream",
     "text": [
      "[(5, 305), (9, 290), (7, 274), (3, 254)]\n"
     ]
    }
   ],
   "source": [
    "print(Counter(used_blurs).most_common(10))"
   ]
  },
  {
   "cell_type": "code",
   "execution_count": null,
   "metadata": {
    "collapsed": true
   },
   "outputs": [],
   "source": []
  }
 ],
 "metadata": {
  "kernelspec": {
   "display_name": "Python 3",
   "language": "python",
   "name": "python3"
  },
  "language_info": {
   "codemirror_mode": {
    "name": "ipython",
    "version": 3
   },
   "file_extension": ".py",
   "mimetype": "text/x-python",
   "name": "python",
   "nbconvert_exporter": "python",
   "pygments_lexer": "ipython3",
   "version": "3.6.6"
  }
 },
 "nbformat": 4,
 "nbformat_minor": 2
}
