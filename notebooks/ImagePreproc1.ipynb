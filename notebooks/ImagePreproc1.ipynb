{
 "cells": [
  {
   "cell_type": "markdown",
   "metadata": {},
   "source": [
    "# Image pre-processing\n",
    "This notebook contains the code to pre-process images for our blur detection.\n",
    "The input data contains microscopy images (JPG in RGB) from the MR4 set. We create a dataset of sharp (original) images and blurry images (by blurring the original sharp image).\n",
    "\n",
    "The following operations are performed:\n",
    "1. read images from folder and loop through them\n",
    "2. resize the image to a square and apply zero (black) padding\n",
    "3. create a blurred version of the image by applying Gaussian Blur\n",
    "4. save the images"
   ]
  },
  {
   "cell_type": "code",
   "execution_count": 3,
   "metadata": {
    "collapsed": true
   },
   "outputs": [],
   "source": [
    "import cv2 as cv\n",
    "import matplotlib.pyplot as plt\n",
    "import numpy as np\n",
    "import glob\n",
    "import math"
   ]
  },
  {
   "cell_type": "code",
   "execution_count": 5,
   "metadata": {
    "collapsed": true
   },
   "outputs": [],
   "source": [
    "IMAGE_FOLDER = '../samples/'\n",
    "OUTPUT_FOLDER = '../processed/'\n",
    "BLUR_SIZE = 9\n",
    "OUTPUT_DIM = 200"
   ]
  },
  {
   "cell_type": "code",
   "execution_count": 7,
   "metadata": {
    "collapsed": true
   },
   "outputs": [],
   "source": [
    "# Load files from input folder\n",
    "dir_content = glob.glob(IMAGE_FOLDER+'*.jpg')\n",
    "input_filenames = [x.split('/')[-1] for x in dir_content]"
   ]
  },
  {
   "cell_type": "code",
   "execution_count": 4,
   "metadata": {},
   "outputs": [
    {
     "name": "stdout",
     "output_type": "stream",
     "text": [
      "0.0 done\n",
      "0.1 done\n",
      "0.2 done\n",
      "0.3 done\n",
      "0.4 done\n",
      "0.5 done\n",
      "0.6 done\n",
      "0.7 done\n",
      "0.8 done\n",
      "0.9 done\n",
      "1.0 done\n",
      "done.\n",
      "CPU times: user 9min 34s, sys: 12 s, total: 9min 46s\n",
      "Wall time: 9min 48s\n"
     ]
    }
   ],
   "source": [
    "%%time\n",
    "# Perform reading, resizing, blurring, saving\n",
    "\n",
    "counter = 0\n",
    "num_files = len(input_filenames)\n",
    "\n",
    "step = math.floor(0.1*num_files)\n",
    "\n",
    "for file in input_filenames:\n",
    "    \n",
    "    # Create an empty black output image\n",
    "    blur_out_img = np.zeros((OUTPUT_DIM, OUTPUT_DIM,3))\n",
    "    orig_out_img = np.zeros((OUTPUT_DIM, OUTPUT_DIM,3))\n",
    "    \n",
    "    # Read the raw image into memory\n",
    "    raw_img = cv.imread(IMAGE_FOLDER+file)\n",
    "\n",
    "    # Scale the original image to fit in the output format\n",
    "    scale = OUTPUT_DIM/max(raw_img.shape[0],raw_img.shape[1])\n",
    "    img = cv.resize(raw_img, (0,0), fx=scale, fy=scale)\n",
    "        \n",
    "    # Apply blur\n",
    "    blurred_img = cv.GaussianBlur(img, (BLUR_SIZE, BLUR_SIZE),0)\n",
    "    \n",
    "    # Fit the scaled blurred image into the empty black image (as zero padding)\n",
    "    blur_out_img[ :blurred_img.shape[0], :blurred_img.shape[1] ] = blurred_img\n",
    "    orig_out_img[ :img.shape[0], :img.shape[1] ] = img\n",
    "    \n",
    "    cv.imwrite(OUTPUT_FOLDER+'blur/'+file, blur_out_img)\n",
    "    cv.imwrite(OUTPUT_FOLDER+'orig/'+file, orig_out_img)\n",
    "    \n",
    "    if counter % step == 0:\n",
    "        percentage = round( counter / num_files,1 )\n",
    "        print( '{} done'.format(percentage) )\n",
    "    counter += 1\n",
    "        \n",
    "print('done.')"
   ]
  },
  {
   "cell_type": "code",
   "execution_count": null,
   "metadata": {
    "collapsed": true
   },
   "outputs": [],
   "source": []
  }
 ],
 "metadata": {
  "kernelspec": {
   "display_name": "Python 3",
   "language": "python",
   "name": "python3"
  },
  "language_info": {
   "codemirror_mode": {
    "name": "ipython",
    "version": 3
   },
   "file_extension": ".py",
   "mimetype": "text/x-python",
   "name": "python",
   "nbconvert_exporter": "python",
   "pygments_lexer": "ipython3",
   "version": "3.6.6"
  }
 },
 "nbformat": 4,
 "nbformat_minor": 2
}
